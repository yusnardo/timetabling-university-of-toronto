{
 "cells": [
  {
   "cell_type": "markdown",
   "metadata": {
    "slideshow": {
     "slide_type": "-"
    }
   },
   "source": [
    "# Benchmark Data Sets in Exam Timetabling\n",
    "Data -> __[University of Toronto Benchmark Data](http://www.cs.nott.ac.uk/~pszrq/data.htm)__\n",
    "\n",
    "**Problem Description :**\n",
    "... A Conflict Matrix C was defined where each element Cij = 1 if exam i conflict with exam j (have common students), or Cij = 0 otherwise. The Conflict Density represents the ratio between the number of elements of value \"1\" to the total number of elements in the conflict matrix.\n",
    "\n",
    "**Objective :**\n",
    "1. to minimise the number of timeslots needed for the problem (graph coloring)\n",
    "2. to minimise the sum of approximate costs per student. i.e. Zigma wi/S, i = 0, 1, 2, 3, 4.\n",
    "\n",
    "**LIST TO DO**\n",
    "- [x] Import Data\n",
    "- [x] Build Conflict Matrix\n",
    "- [x] Make TIme Table\n"
   ]
  },
  {
   "cell_type": "code",
   "execution_count": 1,
   "metadata": {},
   "outputs": [],
   "source": [
    "# Import Library\n",
    "import pandas as pd\n",
    "import numpy as np\n",
    "import random\n",
    "import copy\n",
    "pd.set_option('display.max_columns', None)\n",
    "pd.set_option('display.max_rows', None)\n",
    "# pd.reset_option('^display.', silent=True)"
   ]
  },
  {
   "cell_type": "code",
   "execution_count": 2,
   "metadata": {
    "scrolled": false
   },
   "outputs": [],
   "source": [
    "# Import Data\n",
    "import timeit\n",
    "start_time = timeit.default_timer()\n",
    "course_path = \"D:/Dataset/okh1/car-f-92.crs\"\n",
    "student_path = \"D:/Dataset/okh1/car-f-92.stu\"\n",
    "\n",
    "course = pd.read_csv(course_path, header = None, sep = \" \")\n",
    "student = pd.read_csv(student_path, header = None, sep = \" \", \n",
    "                      names = ['V1', 'V2', 'V3', 'V4', 'V5', 'V6', 'V7', 'V8', 'V9', 'V10', 'V11', 'V12', 'V13', 'V14', 'V15'], skip_blank_lines = False)\n",
    "student = student.fillna(0)"
   ]
  },
  {
   "cell_type": "code",
   "execution_count": 3,
   "metadata": {},
   "outputs": [],
   "source": [
    "for i in student:\n",
    "    if sum(student[i]) == 0:\n",
    "        student = student.drop(columns = i)\n",
    "#student"
   ]
  },
  {
   "cell_type": "code",
   "execution_count": 4,
   "metadata": {},
   "outputs": [
    {
     "data": {
      "text/plain": [
       "48.3698453"
      ]
     },
     "execution_count": 4,
     "metadata": {},
     "output_type": "execute_result"
    }
   ],
   "source": [
    "# Build Matrix in DataFrame\n",
    "start_time = timeit.default_timer()\n",
    "matrix = pd.DataFrame(0, index = range(1, (len(course)+1)), columns = range(1, (len(course)+1)), dtype = np.int)\n",
    "for stud in range(0, len(student)):\n",
    "    for i in range(0, len(student.columns)-1):\n",
    "        for j in range(i+1, len(student.columns)):\n",
    "            a = int(student.iloc[stud, i])\n",
    "            b = int(student.iloc[stud, j])\n",
    "            if b == 0 or a == b:\n",
    "                break\n",
    "            matrix.iloc[a-1, b-1] += 1\n",
    "            matrix.iloc[b-1, a-1] += 1\n",
    "        if student.iloc[stud, i] == 0:\n",
    "            break\n",
    "            \n",
    "# Run to open matrix\n",
    "# matrix\n",
    "elapsed = timeit.default_timer() - start_time\n",
    "elapsed"
   ]
  },
  {
   "cell_type": "markdown",
   "metadata": {},
   "source": [
    "**Build Time Tabling Using The Largest Degree First Heuristic**"
   ]
  },
  {
   "cell_type": "code",
   "execution_count": 5,
   "metadata": {},
   "outputs": [],
   "source": [
    "degree = 0\n",
    "table_of_degree = []\n",
    "course_chaos = []\n",
    "for i in range(0, len(course)):\n",
    "    for j in matrix:\n",
    "        if matrix.iloc[i][j] > 0:\n",
    "            degree += 1\n",
    "            chaos = j\n",
    "            course_chaos.append(chaos)\n",
    "    key = (i+1, degree, course_chaos)\n",
    "    table_of_degree.append(key)\n",
    "    degree = 0\n",
    "    course_chaos = []\n",
    "degree_table = pd.DataFrame(table_of_degree, columns = ['course', 'total_degree', 'course_chaos'])\n",
    "degree_table = degree_table.set_index('course')\n",
    "#degree_table"
   ]
  },
  {
   "cell_type": "code",
   "execution_count": 6,
   "metadata": {},
   "outputs": [],
   "source": [
    "sorted_degree_table = degree_table.sort_values(by = ['total_degree'], ascending = False)\n",
    "# sorted_degree_table"
   ]
  },
  {
   "cell_type": "code",
   "execution_count": 7,
   "metadata": {},
   "outputs": [],
   "source": [
    "time_table = [[]]\n",
    "for i in sorted_degree_table.index[:len(course)+1]:\n",
    "    arr = degree_table.iloc[i-1, 1]\n",
    "    for j in range(0, len(time_table)):        \n",
    "        if any(a in arr for a in time_table[j]):\n",
    "            if j == (len(time_table)-1):\n",
    "                time_table.append([i])\n",
    "            continue\n",
    "        else:\n",
    "            time_table[j].append(i)\n",
    "            break\n",
    "#time_table"
   ]
  },
  {
   "cell_type": "code",
   "execution_count": 8,
   "metadata": {},
   "outputs": [
    {
     "data": {
      "text/plain": [
       "94.81394110000001"
      ]
     },
     "execution_count": 8,
     "metadata": {},
     "output_type": "execute_result"
    }
   ],
   "source": [
    "# code you want to evaluate\n",
    "elapsed = timeit.default_timer() - start_time\n",
    "elapsed"
   ]
  },
  {
   "cell_type": "code",
   "execution_count": 9,
   "metadata": {},
   "outputs": [],
   "source": [
    "# slot = []\n",
    "# for i in range(1, len(time_table)+1):\n",
    "#     slot.append('Slot {list_slot}'.format(list_slot = i))\n",
    "\n",
    "    \n",
    "# pd.set_option('display.max_rows', None)\n",
    "# solution = pd.Series(time_table, index = slot)\n",
    "# display(solution)"
   ]
  },
  {
   "cell_type": "code",
   "execution_count": 10,
   "metadata": {
    "scrolled": true
   },
   "outputs": [],
   "source": [
    "# for i in range(0, len(solution)):\n",
    "#     print('slot ', i+1)\n",
    "#     print(solution[i])\n",
    "#     print('\\n')"
   ]
  },
  {
   "cell_type": "code",
   "execution_count": 11,
   "metadata": {},
   "outputs": [],
   "source": [
    "arr_time_table = []\n",
    "def index_2d(myList, v):\n",
    "    for i, x in enumerate(myList):\n",
    "        if v in x:\n",
    "            return i\n",
    "\n",
    "for i in range(1, len(degree_table)+1):\n",
    "    index = index_2d(time_table , i)\n",
    "    arr_time_table.append([i, index])"
   ]
  },
  {
   "cell_type": "code",
   "execution_count": 12,
   "metadata": {},
   "outputs": [],
   "source": [
    "# for i in range(0, len(time_table)):\n",
    "#     for j in range(0, len(time_table[i])):\n",
    "#         print(time_table[i][j], i)"
   ]
  },
  {
   "cell_type": "code",
   "execution_count": 13,
   "metadata": {},
   "outputs": [],
   "source": [
    "student_array = [[]]\n",
    "for i in student.index:\n",
    "    for j in range(0, len(student.iloc[i])):\n",
    "        if student.iloc[i][j] > 0:\n",
    "            if len(student_array) <= i:\n",
    "                student_array.append([student.iloc[i][j]])\n",
    "            else:\n",
    "                student_array[i].append(student.iloc[i][j])"
   ]
  },
  {
   "cell_type": "code",
   "execution_count": 14,
   "metadata": {
    "scrolled": true
   },
   "outputs": [],
   "source": [
    "def check_hard_constraint(initial_solution, course, index):\n",
    "    check = True\n",
    "    arr = degree_table.iloc[course-1, 1]\n",
    "    exam = []\n",
    "    for i in range(0, len(initial_solution)):\n",
    "        if arr_time_table[i][1] == index:\n",
    "            exam.append(i+1)\n",
    "    if any(a in arr for a in exam):\n",
    "        check = False\n",
    "    return bool(check)\n",
    "\n",
    "def evaluate(initial_solution):\n",
    "    exam_score = 0\n",
    "    for i in range(1, len(degree_table)+1):\n",
    "        index_a = initial_solution[i-1][1]\n",
    "        for j in range(i+1, len(degree_table)):\n",
    "            index_b = initial_solution[j-1][1]\n",
    "            diff = abs(index_a - index_b)\n",
    "            num = matrix.iloc[i-1, j-1]\n",
    "            if diff == 1:\n",
    "                exam_score += 16*num\n",
    "            elif diff == 2:\n",
    "                exam_score += 8*num\n",
    "            elif diff == 3:\n",
    "                exam_score += 4*num\n",
    "            elif diff == 4:\n",
    "                exam_score += 2*num\n",
    "            elif diff == 5:\n",
    "                exam_score += 1*num\n",
    "        \n",
    "    return exam_score/len(student_array) \n",
    "\n",
    "def get_cost(initial_solution, course):\n",
    "    cost = 0\n",
    "    index_a = initial_solution[course-1][1]\n",
    "    for i in range(1, len(degree_table)+1):\n",
    "        if i == course:\n",
    "            continue\n",
    "        index_b = initial_solution[i-1][1]\n",
    "        diff = abs(index_a - index_b)\n",
    "        num = matrix.iloc[i-1, course-1]\n",
    "        if diff == 1:\n",
    "            cost += 16*num\n",
    "        elif diff == 2:\n",
    "            cost += 8*num\n",
    "        elif diff == 3:\n",
    "            cost += 4*num\n",
    "        elif diff == 4:\n",
    "            cost += 2*num\n",
    "        elif diff == 5:\n",
    "            cost += 1*num\n",
    "    return cost/len(student_array) \n",
    "\n",
    "Carleton91 = 11.694830132939439\n",
    "Carleton92 = 10.407080\n",
    "EarlHaig83 = 71.91466666666666\n",
    "EdHEC92 = 27.799858306765852\n",
    "KingFahd93 = 46.339502710787066\n",
    "LSE91 = 26.202494497432134\n",
    "Rye92 = 34.06339806670731\n",
    "Andrews83 = 193.7315875613748\n",
    "TorontoAS92 = 7.444418320323521\n",
    "TorontoE92 = 53.447272727272725\n",
    "Trent92 = 15.687385321100917\n",
    "YorkMills83 = 64.18597236981934\n",
    "Pur93 = 16.680673947789025\n",
    "\n",
    "slot_Carleton91 = 35-1\n",
    "slot_Carleton92 = 32-1\n",
    "slot_EarlHaig83 = 24-1\n",
    "slot_EdHEC92 = 18-1\n",
    "slot_KingFahd93 = 20-1\n",
    "slot_LSE91 = 18-1\n",
    "slot_Rye92 = 23-1\n",
    "slot_Andrews83 = 13-1\n",
    "slot_TorontoAS92 = 35-1\n",
    "slot_TorontoE92 = 10-1\n",
    "slot_Trent92 = 23-1\n",
    "slot_YorkMills83 = 21-1\n",
    "slot_Pur93 = 42-1"
   ]
  },
  {
   "cell_type": "markdown",
   "metadata": {},
   "source": [
    "## Algoritma Hill Climbing\n",
    "***"
   ]
  },
  {
   "cell_type": "code",
   "execution_count": 15,
   "metadata": {},
   "outputs": [],
   "source": [
    "# start_time = timeit.default_timer()\n",
    "# print(evaluate(arr_time_table))\n",
    "# elapsed = timeit.default_timer() - start_time\n",
    "# elapsed "
   ]
  },
  {
   "cell_type": "code",
   "execution_count": 16,
   "metadata": {},
   "outputs": [],
   "source": [
    "best_score = Carleton92\n",
    "time_slot = slot_Carleton92"
   ]
  },
  {
   "cell_type": "code",
   "execution_count": null,
   "metadata": {},
   "outputs": [
    {
     "name": "stdout",
     "output_type": "stream",
     "text": [
      "Iterasi 1 dengan penalty 10.40708\n",
      "Iterasi 2 dengan penalty 10.40708\n",
      "Iterasi 3 dengan penalty 10.40708\n",
      "Iterasi 4 dengan penalty 10.40708\n",
      "Iterasi 5 dengan penalty 10.40708\n",
      "Iterasi 6 dengan penalty 10.40708\n",
      "Iterasi 7 dengan penalty 10.40708\n",
      "Iterasi 8 dengan penalty 10.40708\n",
      "Iterasi 9 dengan penalty 10.40708\n",
      "Iterasi 10 dengan penalty 10.40708\n",
      "Iterasi 11 dengan penalty 10.40708\n",
      "Iterasi 12 dengan penalty 10.32971388240404\n",
      "Iterasi 13 dengan penalty 10.32971388240404\n",
      "Iterasi 14 dengan penalty 10.32971388240404\n",
      "Iterasi 15 dengan penalty 10.32971388240404\n",
      "Iterasi 16 dengan penalty 10.32971388240404\n",
      "Iterasi 17 dengan penalty 10.32971388240404\n",
      "Iterasi 18 dengan penalty 10.32971388240404\n",
      "Iterasi 19 dengan penalty 10.32971388240404\n",
      "Iterasi 20 dengan penalty 10.32971388240404\n",
      "Iterasi 21 dengan penalty 10.32971388240404\n",
      "Iterasi 22 dengan penalty 10.32971388240404\n",
      "Iterasi 23 dengan penalty 10.32971388240404\n",
      "Iterasi 24 dengan penalty 10.320049948422824\n",
      "Iterasi 25 dengan penalty 10.320049948422824\n",
      "Iterasi 26 dengan penalty 10.320049948422824\n",
      "Iterasi 27 dengan penalty 10.292361148813725\n",
      "Iterasi 28 dengan penalty 10.292361148813725\n",
      "Iterasi 29 dengan penalty 10.292361148813725\n",
      "Iterasi 30 dengan penalty 10.292361148813725\n",
      "Iterasi 31 dengan penalty 10.292361148813725\n",
      "Iterasi 32 dengan penalty 10.292361148813725\n",
      "Iterasi 33 dengan penalty 10.289809435908573\n",
      "Iterasi 34 dengan penalty 10.276996579618872\n",
      "Iterasi 35 dengan penalty 10.276996579618872\n",
      "Iterasi 36 dengan penalty 10.276996579618872\n",
      "Iterasi 37 dengan penalty 10.267169770345838\n",
      "Iterasi 38 dengan penalty 10.267169770345838\n",
      "Iterasi 39 dengan penalty 10.267169770345838\n",
      "Iterasi 40 dengan penalty 10.267169770345838\n",
      "Iterasi 41 dengan penalty 10.267169770345838\n",
      "Iterasi 42 dengan penalty 10.267169770345838\n",
      "Iterasi 43 dengan penalty 10.267169770345838\n",
      "Iterasi 44 dengan penalty 10.267169770345838\n",
      "Iterasi 45 dengan penalty 10.267169770345838\n",
      "Iterasi 46 dengan penalty 10.220478853357946\n",
      "Iterasi 47 dengan penalty 10.220478853357946\n",
      "Iterasi 48 dengan penalty 10.220478853357946\n",
      "Iterasi 49 dengan penalty 10.220478853357946\n",
      "Iterasi 50 dengan penalty 10.220478853357946\n",
      "Iterasi 51 dengan penalty 10.220478853357946\n",
      "Iterasi 52 dengan penalty 10.220478853357946\n",
      "Iterasi 53 dengan penalty 10.22015310277431\n",
      "Iterasi 54 dengan penalty 10.212063629947338\n",
      "Iterasi 55 dengan penalty 10.212063629947338\n",
      "Iterasi 56 dengan penalty 10.212063629947338\n",
      "Iterasi 57 dengan penalty 10.212063629947338\n",
      "Iterasi 58 dengan penalty 10.212063629947338\n",
      "Iterasi 59 dengan penalty 10.212063629947338\n",
      "Iterasi 60 dengan penalty 10.212063629947338\n",
      "Iterasi 61 dengan penalty 10.212063629947338\n",
      "Iterasi 62 dengan penalty 10.212063629947338\n",
      "Iterasi 63 dengan penalty 10.195341766653998\n",
      "Iterasi 64 dengan penalty 10.195341766653998\n",
      "Iterasi 65 dengan penalty 10.195341766653998\n",
      "Iterasi 66 dengan penalty 10.195341766653998\n",
      "Iterasi 67 dengan penalty 10.195341766653998\n",
      "Iterasi 68 dengan penalty 10.195341766653998\n",
      "Iterasi 69 dengan penalty 10.195341766653998\n",
      "Iterasi 70 dengan penalty 10.195341766653998\n",
      "Iterasi 71 dengan penalty 10.195341766653998\n",
      "Iterasi 72 dengan penalty 10.195341766653998\n",
      "Iterasi 73 dengan penalty 10.195341766653998\n",
      "Iterasi 74 dengan penalty 10.182963244475813\n",
      "Iterasi 75 dengan penalty 10.182963244475813\n",
      "Iterasi 76 dengan penalty 10.180085780987024\n",
      "Iterasi 77 dengan penalty 10.180085780987024\n",
      "Iterasi 78 dengan penalty 10.180085780987024\n",
      "Iterasi 79 dengan penalty 10.180085780987024\n",
      "Iterasi 80 dengan penalty 10.180085780987024\n",
      "Iterasi 81 dengan penalty 10.180085780987024\n",
      "Iterasi 82 dengan penalty 10.180085780987024\n",
      "Iterasi 83 dengan penalty 10.175796731635812\n",
      "Iterasi 84 dengan penalty 10.175796731635812\n",
      "Iterasi 85 dengan penalty 10.172484934035507\n",
      "Iterasi 86 dengan penalty 10.172484934035507\n",
      "Iterasi 87 dengan penalty 10.172484934035507\n",
      "Iterasi 88 dengan penalty 10.172484934035507\n",
      "Iterasi 89 dengan penalty 10.172484934035507\n",
      "Iterasi 90 dengan penalty 10.168630218795808\n",
      "Iterasi 91 dengan penalty 10.168630218795808\n",
      "Iterasi 92 dengan penalty 10.168630218795808\n",
      "Iterasi 93 dengan penalty 10.168630218795808\n",
      "Iterasi 94 dengan penalty 10.168630218795808\n",
      "Iterasi 95 dengan penalty 10.168630218795808\n",
      "Iterasi 96 dengan penalty 10.168630218795808\n",
      "Iterasi 97 dengan penalty 10.168630218795808\n",
      "Iterasi 98 dengan penalty 10.168630218795808\n",
      "Iterasi 99 dengan penalty 10.168630218795808\n",
      "Iterasi 100 dengan penalty 10.135132200445192\n",
      "Iterasi 101 dengan penalty 10.135132200445192\n",
      "Iterasi 102 dengan penalty 10.135132200445192\n",
      "Iterasi 103 dengan penalty 10.133069113415495\n",
      "Iterasi 104 dengan penalty 10.128345729952766\n",
      "Iterasi 105 dengan penalty 10.114447038384277\n",
      "Iterasi 106 dengan penalty 10.114447038384277\n",
      "Iterasi 107 dengan penalty 10.114447038384277\n",
      "Iterasi 108 dengan penalty 10.114447038384277\n",
      "Iterasi 109 dengan penalty 10.114447038384277\n",
      "Iterasi 110 dengan penalty 10.114447038384277\n",
      "Iterasi 111 dengan penalty 10.114447038384277\n",
      "Iterasi 112 dengan penalty 10.114447038384277\n",
      "Iterasi 113 dengan penalty 10.114447038384277\n",
      "Iterasi 114 dengan penalty 10.114447038384277\n",
      "Iterasi 115 dengan penalty 10.114447038384277\n",
      "Iterasi 116 dengan penalty 10.114447038384277\n",
      "Iterasi 117 dengan penalty 10.099625386828817\n",
      "Iterasi 118 dengan penalty 10.099625386828817\n",
      "Iterasi 119 dengan penalty 10.099625386828817\n",
      "Iterasi 120 dengan penalty 10.044247787610619\n",
      "Iterasi 121 dengan penalty 10.044247787610619\n",
      "Iterasi 122 dengan penalty 10.006786470492425\n",
      "Iterasi 123 dengan penalty 10.006786470492425\n",
      "Iterasi 124 dengan penalty 10.006786470492425\n",
      "Iterasi 125 dengan penalty 9.978663336771811\n",
      "Iterasi 126 dengan penalty 9.978663336771811\n",
      "Iterasi 127 dengan penalty 9.978663336771811\n",
      "Iterasi 128 dengan penalty 9.978663336771811\n",
      "Iterasi 129 dengan penalty 9.978663336771811\n",
      "Iterasi 130 dengan penalty 9.978663336771811\n",
      "Iterasi 131 dengan penalty 9.978663336771811\n",
      "Iterasi 132 dengan penalty 9.978663336771811\n",
      "Iterasi 133 dengan penalty 9.978663336771811\n",
      "Iterasi 134 dengan penalty 9.978663336771811\n",
      "Iterasi 135 dengan penalty 9.976817416797871\n",
      "Iterasi 136 dengan penalty 9.976817416797871\n",
      "Iterasi 137 dengan penalty 9.976817416797871\n",
      "Iterasi 138 dengan penalty 9.976600249742114\n",
      "Iterasi 139 dengan penalty 9.97155111569575\n",
      "Iterasi 140 dengan penalty 9.87751778055269\n",
      "Iterasi 141 dengan penalty 9.87751778055269\n",
      "Iterasi 142 dengan penalty 9.87751778055269\n",
      "Iterasi 143 dengan penalty 9.87751778055269\n",
      "Iterasi 144 dengan penalty 9.87751778055269\n",
      "Iterasi 145 dengan penalty 9.87751778055269\n"
     ]
    }
   ],
   "source": [
    "start_time = timeit.default_timer()\n",
    "\n",
    "block = 0\n",
    "while block < 1000:\n",
    "    block += 1\n",
    "    print('Iterasi', block, 'dengan penalty', best_score)\n",
    "    course = int(random.randint(1, len(degree_table.index)))\n",
    "    index = int(random.randint(0, time_slot))\n",
    "    penalty_1 = get_cost(arr_time_table, course)\n",
    "    if check_hard_constraint(arr_time_table, course, index):\n",
    "        new_solution = copy.deepcopy(arr_time_table)\n",
    "        new_solution[course-1][1] = index \n",
    "        penalty_2 = get_cost(new_solution, course)\n",
    "    else:   \n",
    "        penalty_2 = penalty_1\n",
    "        \n",
    "    delta = penalty_1 - penalty_2\n",
    "    \n",
    "    if delta > 0:\n",
    "        score = best_score - penalty_2\n",
    "        best_score = score\n",
    "        arr_time_table = copy.deepcopy(new_solution)\n",
    "    else:\n",
    "        score = 1000\n",
    "\n",
    "        \n",
    "# arr_time_table\n",
    "elapsed = timeit.default_timer() - start_time\n",
    "elapsed "
   ]
  },
  {
   "cell_type": "code",
   "execution_count": null,
   "metadata": {},
   "outputs": [],
   "source": [
    "elapsed"
   ]
  },
  {
   "cell_type": "code",
   "execution_count": null,
   "metadata": {},
   "outputs": [],
   "source": [
    "print(evaluate(arr_time_table))"
   ]
  },
  {
   "cell_type": "code",
   "execution_count": null,
   "metadata": {
    "scrolled": true
   },
   "outputs": [],
   "source": [
    "for i in range(0, len(arr_time_table)):\n",
    "    print(arr_time_table[i][0], arr_time_table[i][1])"
   ]
  },
  {
   "cell_type": "code",
   "execution_count": null,
   "metadata": {},
   "outputs": [],
   "source": [
    "percentage_delta = ((Carleton92-evaluate(arr_time_table))/Carleton92)*100\n",
    "percentage_delta"
   ]
  },
  {
   "cell_type": "code",
   "execution_count": null,
   "metadata": {},
   "outputs": [],
   "source": []
  }
 ],
 "metadata": {
  "kernelspec": {
   "display_name": "Python 3",
   "language": "python",
   "name": "python3"
  },
  "language_info": {
   "codemirror_mode": {
    "name": "ipython",
    "version": 3
   },
   "file_extension": ".py",
   "mimetype": "text/x-python",
   "name": "python",
   "nbconvert_exporter": "python",
   "pygments_lexer": "ipython3",
   "version": "3.7.4"
  }
 },
 "nbformat": 4,
 "nbformat_minor": 2
}
